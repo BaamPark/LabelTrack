{
 "cells": [
  {
   "cell_type": "code",
   "execution_count": 11,
   "metadata": {},
   "outputs": [
    {
     "data": {
      "text/plain": [
       "'(267, 266, 193, 162)'"
      ]
     },
     "execution_count": 11,
     "metadata": {},
     "output_type": "execute_result"
    }
   ],
   "source": [
    "s = '(267, 266, 193, 162), 123'\n",
    "result_string = s.rsplit(',', 1)[0]\n",
    "result_string"
   ]
  },
  {
   "cell_type": "code",
   "execution_count": 3,
   "metadata": {},
   "outputs": [],
   "source": [
    "def remove_duplicates_ordered(filename):\n",
    "    with open(filename, 'r') as f:\n",
    "        lines = f.readlines()\n",
    "    \n",
    "    seen = set()\n",
    "    unique_lines = [x for x in lines if not (x in seen or seen.add(x))]\n",
    "    \n",
    "    with open(filename, 'w') as f:\n",
    "        f.writelines(unique_lines)\n",
    "\n",
    "remove_duplicates_ordered('annotations (another copy).txt')"
   ]
  }
 ],
 "metadata": {
  "kernelspec": {
   "display_name": "labeltrack",
   "language": "python",
   "name": "python3"
  },
  "language_info": {
   "codemirror_mode": {
    "name": "ipython",
    "version": 3
   },
   "file_extension": ".py",
   "mimetype": "text/x-python",
   "name": "python",
   "nbconvert_exporter": "python",
   "pygments_lexer": "ipython3",
   "version": "3.7.16"
  },
  "orig_nbformat": 4
 },
 "nbformat": 4,
 "nbformat_minor": 2
}
